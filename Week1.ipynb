{
 "cells": [
  {
   "cell_type": "markdown",
   "id": "geographic-combat",
   "metadata": {},
   "source": [
    "# Bioinformatics III: Comparing Genes, Proteins and Genomes"
   ]
  },
  {
   "cell_type": "markdown",
   "id": "surgical-ideal",
   "metadata": {},
   "source": [
    "## Week 1"
   ]
  },
  {
   "cell_type": "markdown",
   "id": "induced-appeal",
   "metadata": {
    "jupyter": {
     "source_hidden": true
    }
   },
   "source": [
    "Alignment Game\n",
    "\n",
    "Sequence Alignment: Two row matrix of 1st and 2nd sequence with - for indels (insertion/delitions and matches or mismatches\n",
    "\n",
    "Maximum score in alingment game is sum of matches\n",
    "\n",
    "Longest Common Subsequence Problem\n",
    "\n",
    "The Manhattan Tourist Problem\n",
    "- Greedy algorithm (always choose the one with the max number attractions)\n",
    "\n",
    "Longest path in a Directed Graph Problem\n",
    "\n",
    "Alignment path optimization\n",
    "- Diagonal is matching symbols (score 1)\n",
    "- Highest score is longest path\n",
    "\n",
    "The Change Problem\n",
    "- Greedy does not work optimally\n",
    "- Recursive Change -> very long\n",
    "- Dynamic Programming Change (precompute small to large value)  \n",
    "\n",
    "Basic alignment grid\n",
    "SouthOrEast(i,j):\n",
    "the length of the longest path from (0,0) to (i,j)\n",
    "Check the best path for each node (bold edge to back track)\n",
    "\n",
    "Arbartry alignment grid\n",
    "same as above\n",
    "\n",
    "Longest Common Sequence\n",
    "Much more simple, because only diagonals are bold edges\n",
    "\n",
    "Compute Backtracking Pointers\n",
    "OutputLCS (green, blue or red)\n",
    "Vicious circle: the order is important\n",
    "Directed cycle: no way to solve the problem, so we do not use (DAG)\n",
    "\n",
    "Topological Ordering: all go from left to right"
   ]
  },
  {
   "cell_type": "code",
   "execution_count": 242,
   "id": "interpreted-discharge",
   "metadata": {},
   "outputs": [],
   "source": [
    "money = 40\n",
    "coins = [50, 20,10,5,1]"
   ]
  },
  {
   "cell_type": "code",
   "execution_count": 243,
   "id": "former-worst",
   "metadata": {},
   "outputs": [],
   "source": [
    "def df_change(money, coins):\n",
    "    '''This function returns the minimum number of coins with denominations in array 'coins' that give change of a given number 'money'.'''\n",
    "    \n",
    "    # create a dictionary with the number of coins for each of for each number 'money'\n",
    "    min_num_coins = {0:0}  # initialize number of coins required with 0 coins for money is 0\n",
    "\n",
    "    # calculate the number of coins required for money incremented from 0 to the given number\n",
    "    for m in range(1, money + 1):\n",
    "        \n",
    "        min_num_coins[m] = 1000  # initialize each number with 'infinity' (here 1000)\n",
    "        \n",
    "        # check which coin should be added \n",
    "        for i in range(len(coins)):\n",
    "            if m >= coins[i]:  # for each coin larger than the current number\n",
    "                if min_num_coins[m - coins[i]] + 1 < min_num_coins[m]:  # check if adding this coin results in the lowest number of coins\n",
    "                    min_num_coins[m] = min_num_coins[m - coins[i]] + 1\n",
    "        \n",
    "        # make sure that the that the array size required does not exceed the value of the largest coin denomination.\n",
    "        if m > coins[0] - 1:\n",
    "            del min_num_coins[m - coins[0]]\n",
    "\n",
    "    return min_num_coins[money]"
   ]
  },
  {
   "cell_type": "code",
   "execution_count": 244,
   "id": "unknown-explosion",
   "metadata": {},
   "outputs": [
    {
     "data": {
      "text/plain": [
       "2"
      ]
     },
     "execution_count": 244,
     "metadata": {},
     "output_type": "execute_result"
    }
   ],
   "source": [
    "df_change(money, coins)"
   ]
  }
 ],
 "metadata": {
  "kernelspec": {
   "display_name": "Python 3",
   "language": "python",
   "name": "python3"
  },
  "language_info": {
   "codemirror_mode": {
    "name": "ipython",
    "version": 3
   },
   "file_extension": ".py",
   "mimetype": "text/x-python",
   "name": "python",
   "nbconvert_exporter": "python",
   "pygments_lexer": "ipython3",
   "version": "3.9.1"
  }
 },
 "nbformat": 4,
 "nbformat_minor": 5
}
